{
  "nbformat": 4,
  "nbformat_minor": 0,
  "metadata": {
    "colab": {
      "name": "Functional Python.ipynb",
      "provenance": [],
      "collapsed_sections": []
    },
    "kernelspec": {
      "name": "python3",
      "display_name": "Python 3"
    },
    "language_info": {
      "name": "python"
    }
  },
  "cells": [
    {
      "cell_type": "code",
      "execution_count": null,
      "metadata": {
        "id": "msy9Tf4hY7Xv"
      },
      "outputs": [],
      "source": [
        "%%capture\n",
        "!pip install -q --pre poetry\n",
        "!poetry new functional_python\n",
        "%cd functional_python\n",
        "!poetry add pytest pytest-sugar mypy"
      ]
    },
    {
      "cell_type": "code",
      "source": [
        "!poetry show"
      ],
      "metadata": {
        "colab": {
          "base_uri": "https://localhost:8080/"
        },
        "id": "VKUgX1lAMlnc",
        "outputId": "c8a056d9-f05e-4187-f1b8-579519d6a185"
      },
      "execution_count": null,
      "outputs": [
        {
          "output_type": "stream",
          "name": "stdout",
          "text": [
            "/bin/bash: poetry: command not found\n"
          ]
        }
      ]
    },
    {
      "cell_type": "code",
      "source": [
        "%cd ../..\n",
        "%cd home\n",
        "!ls -a\n",
        "%cd .poetry\n",
        "!ls"
      ],
      "metadata": {
        "colab": {
          "base_uri": "https://localhost:8080/"
        },
        "id": "KEVgFRp-Ipha",
        "outputId": "df28aaea-eaa4-4ef6-c408-62ab19457ca7"
      },
      "execution_count": null,
      "outputs": [
        {
          "output_type": "stream",
          "name": "stdout",
          "text": [
            "/\n",
            "/home\n",
            ".  ..\n",
            "[Errno 2] No such file or directory: '.poetry'\n",
            "/home\n"
          ]
        }
      ]
    },
    {
      "cell_type": "code",
      "source": [
        "# from https://stackoverflow.com/a/63144323\n",
        "# mypy go brrr\n",
        "from IPython.core.magic import register_cell_magic\n",
        "from IPython import get_ipython\n",
        "from mypy import api\n",
        "\n",
        "@register_cell_magic\n",
        "def mypy(line, cell):\n",
        "  for output in api.run(['-c', '\\n' + cell] + line.split()):\n",
        "    if output and not output.startswith('Success'):\n",
        "      raise TypeError(output)\n",
        "  get_ipython().run_cell(cell)"
      ],
      "metadata": {
        "colab": {
          "base_uri": "https://localhost:8080/",
          "height": 652
        },
        "id": "ecQ7CAuwhqOe",
        "outputId": "000d67fd-66db-4a31-e1e7-191f073eae2d"
      },
      "execution_count": null,
      "outputs": [
        {
          "output_type": "stream",
          "name": "stdout",
          "text": [
            "\u001b[36mattrs             \u001b[39m \u001b[39;1m21.4.0\u001b[39;22m Classes Without Boilerplate\n",
            "\u001b[36mimportlib-metadata\u001b[39m \u001b[39;1m4.11.3\u001b[39;22m Read metadata from Python packages\n",
            "\u001b[36miniconfig         \u001b[39m \u001b[39;1m1.1.1 \u001b[39;22m iniconfig: brain-dead simple config-ini parsing\n",
            "\u001b[36mmypy              \u001b[39m \u001b[39;1m0.942 \u001b[39;22m Optional static typing for Python\n",
            "\u001b[36mmypy-extensions   \u001b[39m \u001b[39;1m0.4.3 \u001b[39;22m Experimental type system extensions for programs ...\n",
            "\u001b[36mpackaging         \u001b[39m \u001b[39;1m21.3  \u001b[39;22m Core utilities for Python packages\n",
            "\u001b[36mpluggy            \u001b[39m \u001b[39;1m1.0.0 \u001b[39;22m plugin and hook calling mechanisms for python\n",
            "\u001b[36mpy                \u001b[39m \u001b[39;1m1.11.0\u001b[39;22m library with cross-python path, ini-parsing, io, ...\n",
            "\u001b[36mpyparsing         \u001b[39m \u001b[39;1m3.0.7 \u001b[39;22m Python parsing module\n",
            "\u001b[36mpytest            \u001b[39m \u001b[39;1m7.1.1 \u001b[39;22m pytest: simple powerful testing with Python\n",
            "\u001b[36mpytest-sugar      \u001b[39m \u001b[39;1m0.9.4 \u001b[39;22m pytest-sugar is a plugin for pytest that changes ...\n",
            "\u001b[36mtermcolor         \u001b[39m \u001b[39;1m1.1.0 \u001b[39;22m ANSII Color formatting for output in terminal.\n",
            "\u001b[36mtomli             \u001b[39m \u001b[39;1m2.0.1 \u001b[39;22m A lil' TOML parser\n",
            "\u001b[36mtyped-ast         \u001b[39m \u001b[39;1m1.5.2 \u001b[39;22m a fork of Python 2 and 3 ast modules with type co...\n",
            "\u001b[36mtyping-extensions \u001b[39m \u001b[39;1m4.1.1 \u001b[39;22m Backported and Experimental Type Hints for Python...\n",
            "\u001b[36mzipp              \u001b[39m \u001b[39;1m3.7.0 \u001b[39;22m Backport of pathlib-compatible object wrapper for...\n"
          ]
        },
        {
          "output_type": "error",
          "ename": "ModuleNotFoundError",
          "evalue": "ignored",
          "traceback": [
            "\u001b[0;31m---------------------------------------------------------------------------\u001b[0m",
            "\u001b[0;31mModuleNotFoundError\u001b[0m                       Traceback (most recent call last)",
            "\u001b[0;32m<ipython-input-4-1756aa85b494>\u001b[0m in \u001b[0;36m<module>\u001b[0;34m()\u001b[0m\n\u001b[1;32m      2\u001b[0m \u001b[0;32mfrom\u001b[0m \u001b[0mIPython\u001b[0m\u001b[0;34m.\u001b[0m\u001b[0mcore\u001b[0m\u001b[0;34m.\u001b[0m\u001b[0mmagic\u001b[0m \u001b[0;32mimport\u001b[0m \u001b[0mregister_cell_magic\u001b[0m\u001b[0;34m\u001b[0m\u001b[0;34m\u001b[0m\u001b[0m\n\u001b[1;32m      3\u001b[0m \u001b[0;32mfrom\u001b[0m \u001b[0mIPython\u001b[0m \u001b[0;32mimport\u001b[0m \u001b[0mget_ipython\u001b[0m\u001b[0;34m\u001b[0m\u001b[0;34m\u001b[0m\u001b[0m\n\u001b[0;32m----> 4\u001b[0;31m \u001b[0;32mfrom\u001b[0m \u001b[0mmypy\u001b[0m \u001b[0;32mimport\u001b[0m \u001b[0mapi\u001b[0m\u001b[0;34m\u001b[0m\u001b[0;34m\u001b[0m\u001b[0m\n\u001b[0m\u001b[1;32m      5\u001b[0m \u001b[0;34m\u001b[0m\u001b[0m\n\u001b[1;32m      6\u001b[0m \u001b[0;34m@\u001b[0m\u001b[0mregister_cell_magic\u001b[0m\u001b[0;34m\u001b[0m\u001b[0;34m\u001b[0m\u001b[0m\n",
            "\u001b[0;31mModuleNotFoundError\u001b[0m: No module named 'mypy'",
            "",
            "\u001b[0;31m---------------------------------------------------------------------------\u001b[0;32m\nNOTE: If your import is failing due to a missing package, you can\nmanually install dependencies using either !pip or !apt.\n\nTo view examples of installing some common dependencies, click the\n\"Open Examples\" button below.\n\u001b[0;31m---------------------------------------------------------------------------\u001b[0m\n"
          ],
          "errorDetails": {
            "actions": [
              {
                "action": "open_url",
                "actionText": "Open Examples",
                "url": "/notebooks/snippets/importing_libraries.ipynb"
              }
            ]
          }
        }
      ]
    },
    {
      "cell_type": "code",
      "source": [
        "# Python functional programming\n",
        "from typing import List\n",
        "\n",
        "\n",
        "def concat(lst_1: List, lst_2: List) -> List:\n",
        "    if not len(lst_2):\n",
        "        return lst_1\n",
        "    else:\n",
        "        lst_1.append(lst_2[0])\n",
        "        return concat(lst_1, lst_2[1:])\n",
        "\n",
        "\n",
        "def homogeneous(lst: List) -> bool:\n",
        "    if not len(lst):\n",
        "        return True\n",
        "    else:\n",
        "        return all(isinstance(lst[0], type(x)) for x in lst[1:])\n",
        "\n",
        "\n",
        "def foldr(bin_op, init, lst):\n",
        "    return bin_op(lst[0], foldr(bin_op, init, lst[1:])) if len(lst) else init\n",
        "\n",
        "\n",
        "def id(x):\n",
        "    return x\n",
        "\n",
        "\n",
        "def map(un_op, lst):\n",
        "\n",
        "    def map_helper(x, acc):\n",
        "        return concat([un_op(x)], acc)\n",
        "\n",
        "    return foldr(map_helper, [], lst)\n",
        "\n",
        "\n",
        "def filter(predicate, seq):\n",
        "\n",
        "    def filter_helper(x, acc):\n",
        "        return concat([x], acc) if predicate(x) else acc\n",
        "\n",
        "    return foldr(filter_helper, [], seq)\n",
        "\n",
        "\n",
        "def rev(lst):\n",
        "\n",
        "    def rev_helper(x, acc):\n",
        "        return concat(acc, [id(x)])\n",
        "\n",
        "    return foldr(rev_helper, [], lst)\n",
        "\n",
        "\n",
        "def zip(lst_1, lst_2):\n",
        "    smaller_list = lst_1 if len(lst_1) < len(lst_2) else lst_2\n",
        "    return [(lst_1[i], lst_2[i]) for i in range(len(smaller_list))]\n",
        "\n",
        "\n",
        "def unzip(lst):\n",
        "    return ([a for a, b in lst], [b for a, b in lst])"
      ],
      "metadata": {
        "id": "17HiRv74bk6R"
      },
      "execution_count": null,
      "outputs": []
    }
  ]
}